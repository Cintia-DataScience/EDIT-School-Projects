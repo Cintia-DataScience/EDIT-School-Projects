{
  "nbformat": 4,
  "nbformat_minor": 0,
  "metadata": {
    "colab": {
      "provenance": []
    },
    "kernelspec": {
      "name": "python3",
      "display_name": "Python 3"
    },
    "language_info": {
      "name": "python"
    }
  },
  "cells": [
    {
      "cell_type": "code",
      "execution_count": 74,
      "metadata": {
        "id": "AR4jqIn4D0Ni"
      },
      "outputs": [],
      "source": [
        "import pandas as pd\n",
        "import numpy as np\n",
        "import matplotlib.pyplot as plt\n",
        "import seaborn as sns"
      ]
    },
    {
      "cell_type": "markdown",
      "source": [
        " Parte I - Outliers"
      ],
      "metadata": {
        "id": "LlFzIWAY_oCo"
      }
    },
    {
      "cell_type": "markdown",
      "source": [
        "Linha  - Importar ficheiro Carros3 + apagar colunas"
      ],
      "metadata": {
        "id": "5zWjOabWEPHl"
      }
    },
    {
      "cell_type": "code",
      "source": [
        "path = ('/content/carros3_AnaCintiaOliveira.csv')\n",
        "carros3=pd.read_csv(path)"
      ],
      "metadata": {
        "id": "PPB_6J_UEOtv"
      },
      "execution_count": 75,
      "outputs": []
    },
    {
      "cell_type": "code",
      "source": [
        "print(carros3.info())"
      ],
      "metadata": {
        "colab": {
          "base_uri": "https://localhost:8080/"
        },
        "id": "caaWTen9FWbd",
        "outputId": "aa5a8c71-a25e-4349-be9e-b60e9341a372"
      },
      "execution_count": 76,
      "outputs": [
        {
          "output_type": "stream",
          "name": "stdout",
          "text": [
            "<class 'pandas.core.frame.DataFrame'>\n",
            "RangeIndex: 200 entries, 0 to 199\n",
            "Data columns (total 19 columns):\n",
            " #   Column           Non-Null Count  Dtype  \n",
            "---  ------           --------------  -----  \n",
            " 0   make             200 non-null    object \n",
            " 1   fuel-type        200 non-null    object \n",
            " 2   aspiration       200 non-null    object \n",
            " 3   num-of-doors     200 non-null    object \n",
            " 4   body-style       200 non-null    object \n",
            " 5   drive-wheels     200 non-null    object \n",
            " 6   engine-location  200 non-null    object \n",
            " 7   wheel-base       200 non-null    float64\n",
            " 8   length           200 non-null    float64\n",
            " 9   width            200 non-null    float64\n",
            " 10  height           200 non-null    float64\n",
            " 11  curb-weight      200 non-null    int64  \n",
            " 12  engine-size      200 non-null    int64  \n",
            " 13  horsepower       200 non-null    float64\n",
            " 14  price            200 non-null    int64  \n",
            " 15  width_std        200 non-null    float64\n",
            " 16  mean_width       200 non-null    float64\n",
            " 17  height_log       200 non-null    float64\n",
            " 18  price_decile     200 non-null    int64  \n",
            "dtypes: float64(8), int64(4), object(7)\n",
            "memory usage: 29.8+ KB\n",
            "None\n"
          ]
        }
      ]
    },
    {
      "cell_type": "code",
      "source": [
        "carros3 = carros3.drop(columns=['width_std','mean_width','height_log','price_decile'])"
      ],
      "metadata": {
        "id": "jx3mU_MqB9ia"
      },
      "execution_count": 77,
      "outputs": []
    },
    {
      "cell_type": "markdown",
      "source": [
        "Linha 2"
      ],
      "metadata": {
        "id": "uHCekTMdFgma"
      }
    },
    {
      "cell_type": "code",
      "source": [
        "carros3.describe()"
      ],
      "metadata": {
        "colab": {
          "base_uri": "https://localhost:8080/",
          "height": 300
        },
        "id": "R7bQx6txFjbO",
        "outputId": "95479f46-054e-49a2-df49-512543f77deb"
      },
      "execution_count": 78,
      "outputs": [
        {
          "output_type": "execute_result",
          "data": {
            "text/plain": [
              "       wheel-base      length       width      height  curb-weight  \\\n",
              "count  200.000000  200.000000  200.000000  200.000000   200.000000   \n",
              "mean    98.792000    0.493866   65.887500    4.002342  2556.760000   \n",
              "std      6.081171    0.184357    2.106628    0.044658   518.361966   \n",
              "min     86.600000    0.000000   60.300000    3.887730  1488.000000   \n",
              "25%     94.500000    0.381716   64.100000    3.970292  2163.000000   \n",
              "50%     96.950000    0.479104   65.500000    4.009150  2417.000000   \n",
              "75%    102.400000    0.632836   66.675000    4.034683  2928.250000   \n",
              "max    120.900000    1.000000   72.000000    4.107590  4066.000000   \n",
              "\n",
              "       engine-size  horsepower         price  \n",
              "count   200.000000  200.000000    200.000000  \n",
              "mean    126.965000  103.404040  13203.415000  \n",
              "std      41.631716   37.459236   7966.833912  \n",
              "min      61.000000   48.000000   5118.000000  \n",
              "25%      97.750000   70.000000   7775.000000  \n",
              "50%     120.000000   95.000000  10270.000000  \n",
              "75%     142.000000  116.000000  16500.750000  \n",
              "max     326.000000  262.000000  45400.000000  "
            ],
            "text/html": [
              "\n",
              "  <div id=\"df-2369393b-7455-4653-a260-29e04647c91d\" class=\"colab-df-container\">\n",
              "    <div>\n",
              "<style scoped>\n",
              "    .dataframe tbody tr th:only-of-type {\n",
              "        vertical-align: middle;\n",
              "    }\n",
              "\n",
              "    .dataframe tbody tr th {\n",
              "        vertical-align: top;\n",
              "    }\n",
              "\n",
              "    .dataframe thead th {\n",
              "        text-align: right;\n",
              "    }\n",
              "</style>\n",
              "<table border=\"1\" class=\"dataframe\">\n",
              "  <thead>\n",
              "    <tr style=\"text-align: right;\">\n",
              "      <th></th>\n",
              "      <th>wheel-base</th>\n",
              "      <th>length</th>\n",
              "      <th>width</th>\n",
              "      <th>height</th>\n",
              "      <th>curb-weight</th>\n",
              "      <th>engine-size</th>\n",
              "      <th>horsepower</th>\n",
              "      <th>price</th>\n",
              "    </tr>\n",
              "  </thead>\n",
              "  <tbody>\n",
              "    <tr>\n",
              "      <th>count</th>\n",
              "      <td>200.000000</td>\n",
              "      <td>200.000000</td>\n",
              "      <td>200.000000</td>\n",
              "      <td>200.000000</td>\n",
              "      <td>200.000000</td>\n",
              "      <td>200.000000</td>\n",
              "      <td>200.000000</td>\n",
              "      <td>200.000000</td>\n",
              "    </tr>\n",
              "    <tr>\n",
              "      <th>mean</th>\n",
              "      <td>98.792000</td>\n",
              "      <td>0.493866</td>\n",
              "      <td>65.887500</td>\n",
              "      <td>4.002342</td>\n",
              "      <td>2556.760000</td>\n",
              "      <td>126.965000</td>\n",
              "      <td>103.404040</td>\n",
              "      <td>13203.415000</td>\n",
              "    </tr>\n",
              "    <tr>\n",
              "      <th>std</th>\n",
              "      <td>6.081171</td>\n",
              "      <td>0.184357</td>\n",
              "      <td>2.106628</td>\n",
              "      <td>0.044658</td>\n",
              "      <td>518.361966</td>\n",
              "      <td>41.631716</td>\n",
              "      <td>37.459236</td>\n",
              "      <td>7966.833912</td>\n",
              "    </tr>\n",
              "    <tr>\n",
              "      <th>min</th>\n",
              "      <td>86.600000</td>\n",
              "      <td>0.000000</td>\n",
              "      <td>60.300000</td>\n",
              "      <td>3.887730</td>\n",
              "      <td>1488.000000</td>\n",
              "      <td>61.000000</td>\n",
              "      <td>48.000000</td>\n",
              "      <td>5118.000000</td>\n",
              "    </tr>\n",
              "    <tr>\n",
              "      <th>25%</th>\n",
              "      <td>94.500000</td>\n",
              "      <td>0.381716</td>\n",
              "      <td>64.100000</td>\n",
              "      <td>3.970292</td>\n",
              "      <td>2163.000000</td>\n",
              "      <td>97.750000</td>\n",
              "      <td>70.000000</td>\n",
              "      <td>7775.000000</td>\n",
              "    </tr>\n",
              "    <tr>\n",
              "      <th>50%</th>\n",
              "      <td>96.950000</td>\n",
              "      <td>0.479104</td>\n",
              "      <td>65.500000</td>\n",
              "      <td>4.009150</td>\n",
              "      <td>2417.000000</td>\n",
              "      <td>120.000000</td>\n",
              "      <td>95.000000</td>\n",
              "      <td>10270.000000</td>\n",
              "    </tr>\n",
              "    <tr>\n",
              "      <th>75%</th>\n",
              "      <td>102.400000</td>\n",
              "      <td>0.632836</td>\n",
              "      <td>66.675000</td>\n",
              "      <td>4.034683</td>\n",
              "      <td>2928.250000</td>\n",
              "      <td>142.000000</td>\n",
              "      <td>116.000000</td>\n",
              "      <td>16500.750000</td>\n",
              "    </tr>\n",
              "    <tr>\n",
              "      <th>max</th>\n",
              "      <td>120.900000</td>\n",
              "      <td>1.000000</td>\n",
              "      <td>72.000000</td>\n",
              "      <td>4.107590</td>\n",
              "      <td>4066.000000</td>\n",
              "      <td>326.000000</td>\n",
              "      <td>262.000000</td>\n",
              "      <td>45400.000000</td>\n",
              "    </tr>\n",
              "  </tbody>\n",
              "</table>\n",
              "</div>\n",
              "    <div class=\"colab-df-buttons\">\n",
              "\n",
              "  <div class=\"colab-df-container\">\n",
              "    <button class=\"colab-df-convert\" onclick=\"convertToInteractive('df-2369393b-7455-4653-a260-29e04647c91d')\"\n",
              "            title=\"Convert this dataframe to an interactive table.\"\n",
              "            style=\"display:none;\">\n",
              "\n",
              "  <svg xmlns=\"http://www.w3.org/2000/svg\" height=\"24px\" viewBox=\"0 -960 960 960\">\n",
              "    <path d=\"M120-120v-720h720v720H120Zm60-500h600v-160H180v160Zm220 220h160v-160H400v160Zm0 220h160v-160H400v160ZM180-400h160v-160H180v160Zm440 0h160v-160H620v160ZM180-180h160v-160H180v160Zm440 0h160v-160H620v160Z\"/>\n",
              "  </svg>\n",
              "    </button>\n",
              "\n",
              "  <style>\n",
              "    .colab-df-container {\n",
              "      display:flex;\n",
              "      gap: 12px;\n",
              "    }\n",
              "\n",
              "    .colab-df-convert {\n",
              "      background-color: #E8F0FE;\n",
              "      border: none;\n",
              "      border-radius: 50%;\n",
              "      cursor: pointer;\n",
              "      display: none;\n",
              "      fill: #1967D2;\n",
              "      height: 32px;\n",
              "      padding: 0 0 0 0;\n",
              "      width: 32px;\n",
              "    }\n",
              "\n",
              "    .colab-df-convert:hover {\n",
              "      background-color: #E2EBFA;\n",
              "      box-shadow: 0px 1px 2px rgba(60, 64, 67, 0.3), 0px 1px 3px 1px rgba(60, 64, 67, 0.15);\n",
              "      fill: #174EA6;\n",
              "    }\n",
              "\n",
              "    .colab-df-buttons div {\n",
              "      margin-bottom: 4px;\n",
              "    }\n",
              "\n",
              "    [theme=dark] .colab-df-convert {\n",
              "      background-color: #3B4455;\n",
              "      fill: #D2E3FC;\n",
              "    }\n",
              "\n",
              "    [theme=dark] .colab-df-convert:hover {\n",
              "      background-color: #434B5C;\n",
              "      box-shadow: 0px 1px 3px 1px rgba(0, 0, 0, 0.15);\n",
              "      filter: drop-shadow(0px 1px 2px rgba(0, 0, 0, 0.3));\n",
              "      fill: #FFFFFF;\n",
              "    }\n",
              "  </style>\n",
              "\n",
              "    <script>\n",
              "      const buttonEl =\n",
              "        document.querySelector('#df-2369393b-7455-4653-a260-29e04647c91d button.colab-df-convert');\n",
              "      buttonEl.style.display =\n",
              "        google.colab.kernel.accessAllowed ? 'block' : 'none';\n",
              "\n",
              "      async function convertToInteractive(key) {\n",
              "        const element = document.querySelector('#df-2369393b-7455-4653-a260-29e04647c91d');\n",
              "        const dataTable =\n",
              "          await google.colab.kernel.invokeFunction('convertToInteractive',\n",
              "                                                    [key], {});\n",
              "        if (!dataTable) return;\n",
              "\n",
              "        const docLinkHtml = 'Like what you see? Visit the ' +\n",
              "          '<a target=\"_blank\" href=https://colab.research.google.com/notebooks/data_table.ipynb>data table notebook</a>'\n",
              "          + ' to learn more about interactive tables.';\n",
              "        element.innerHTML = '';\n",
              "        dataTable['output_type'] = 'display_data';\n",
              "        await google.colab.output.renderOutput(dataTable, element);\n",
              "        const docLink = document.createElement('div');\n",
              "        docLink.innerHTML = docLinkHtml;\n",
              "        element.appendChild(docLink);\n",
              "      }\n",
              "    </script>\n",
              "  </div>\n",
              "\n",
              "\n",
              "    <div id=\"df-f73ccf04-2a39-4977-92a7-dfa6875588f2\">\n",
              "      <button class=\"colab-df-quickchart\" onclick=\"quickchart('df-f73ccf04-2a39-4977-92a7-dfa6875588f2')\"\n",
              "                title=\"Suggest charts\"\n",
              "                style=\"display:none;\">\n",
              "\n",
              "<svg xmlns=\"http://www.w3.org/2000/svg\" height=\"24px\"viewBox=\"0 0 24 24\"\n",
              "     width=\"24px\">\n",
              "    <g>\n",
              "        <path d=\"M19 3H5c-1.1 0-2 .9-2 2v14c0 1.1.9 2 2 2h14c1.1 0 2-.9 2-2V5c0-1.1-.9-2-2-2zM9 17H7v-7h2v7zm4 0h-2V7h2v10zm4 0h-2v-4h2v4z\"/>\n",
              "    </g>\n",
              "</svg>\n",
              "      </button>\n",
              "\n",
              "<style>\n",
              "  .colab-df-quickchart {\n",
              "      --bg-color: #E8F0FE;\n",
              "      --fill-color: #1967D2;\n",
              "      --hover-bg-color: #E2EBFA;\n",
              "      --hover-fill-color: #174EA6;\n",
              "      --disabled-fill-color: #AAA;\n",
              "      --disabled-bg-color: #DDD;\n",
              "  }\n",
              "\n",
              "  [theme=dark] .colab-df-quickchart {\n",
              "      --bg-color: #3B4455;\n",
              "      --fill-color: #D2E3FC;\n",
              "      --hover-bg-color: #434B5C;\n",
              "      --hover-fill-color: #FFFFFF;\n",
              "      --disabled-bg-color: #3B4455;\n",
              "      --disabled-fill-color: #666;\n",
              "  }\n",
              "\n",
              "  .colab-df-quickchart {\n",
              "    background-color: var(--bg-color);\n",
              "    border: none;\n",
              "    border-radius: 50%;\n",
              "    cursor: pointer;\n",
              "    display: none;\n",
              "    fill: var(--fill-color);\n",
              "    height: 32px;\n",
              "    padding: 0;\n",
              "    width: 32px;\n",
              "  }\n",
              "\n",
              "  .colab-df-quickchart:hover {\n",
              "    background-color: var(--hover-bg-color);\n",
              "    box-shadow: 0 1px 2px rgba(60, 64, 67, 0.3), 0 1px 3px 1px rgba(60, 64, 67, 0.15);\n",
              "    fill: var(--button-hover-fill-color);\n",
              "  }\n",
              "\n",
              "  .colab-df-quickchart-complete:disabled,\n",
              "  .colab-df-quickchart-complete:disabled:hover {\n",
              "    background-color: var(--disabled-bg-color);\n",
              "    fill: var(--disabled-fill-color);\n",
              "    box-shadow: none;\n",
              "  }\n",
              "\n",
              "  .colab-df-spinner {\n",
              "    border: 2px solid var(--fill-color);\n",
              "    border-color: transparent;\n",
              "    border-bottom-color: var(--fill-color);\n",
              "    animation:\n",
              "      spin 1s steps(1) infinite;\n",
              "  }\n",
              "\n",
              "  @keyframes spin {\n",
              "    0% {\n",
              "      border-color: transparent;\n",
              "      border-bottom-color: var(--fill-color);\n",
              "      border-left-color: var(--fill-color);\n",
              "    }\n",
              "    20% {\n",
              "      border-color: transparent;\n",
              "      border-left-color: var(--fill-color);\n",
              "      border-top-color: var(--fill-color);\n",
              "    }\n",
              "    30% {\n",
              "      border-color: transparent;\n",
              "      border-left-color: var(--fill-color);\n",
              "      border-top-color: var(--fill-color);\n",
              "      border-right-color: var(--fill-color);\n",
              "    }\n",
              "    40% {\n",
              "      border-color: transparent;\n",
              "      border-right-color: var(--fill-color);\n",
              "      border-top-color: var(--fill-color);\n",
              "    }\n",
              "    60% {\n",
              "      border-color: transparent;\n",
              "      border-right-color: var(--fill-color);\n",
              "    }\n",
              "    80% {\n",
              "      border-color: transparent;\n",
              "      border-right-color: var(--fill-color);\n",
              "      border-bottom-color: var(--fill-color);\n",
              "    }\n",
              "    90% {\n",
              "      border-color: transparent;\n",
              "      border-bottom-color: var(--fill-color);\n",
              "    }\n",
              "  }\n",
              "</style>\n",
              "\n",
              "      <script>\n",
              "        async function quickchart(key) {\n",
              "          const quickchartButtonEl =\n",
              "            document.querySelector('#' + key + ' button');\n",
              "          quickchartButtonEl.disabled = true;  // To prevent multiple clicks.\n",
              "          quickchartButtonEl.classList.add('colab-df-spinner');\n",
              "          try {\n",
              "            const charts = await google.colab.kernel.invokeFunction(\n",
              "                'suggestCharts', [key], {});\n",
              "          } catch (error) {\n",
              "            console.error('Error during call to suggestCharts:', error);\n",
              "          }\n",
              "          quickchartButtonEl.classList.remove('colab-df-spinner');\n",
              "          quickchartButtonEl.classList.add('colab-df-quickchart-complete');\n",
              "        }\n",
              "        (() => {\n",
              "          let quickchartButtonEl =\n",
              "            document.querySelector('#df-f73ccf04-2a39-4977-92a7-dfa6875588f2 button');\n",
              "          quickchartButtonEl.style.display =\n",
              "            google.colab.kernel.accessAllowed ? 'block' : 'none';\n",
              "        })();\n",
              "      </script>\n",
              "    </div>\n",
              "\n",
              "    </div>\n",
              "  </div>\n"
            ],
            "application/vnd.google.colaboratory.intrinsic+json": {
              "type": "dataframe",
              "summary": "{\n  \"name\": \"carros3\",\n  \"rows\": 8,\n  \"fields\": [\n    {\n      \"column\": \"wheel-base\",\n      \"properties\": {\n        \"dtype\": \"number\",\n        \"std\": 52.75150268201792,\n        \"min\": 6.081170873769289,\n        \"max\": 200.0,\n        \"num_unique_values\": 8,\n        \"samples\": [\n          98.792,\n          96.95,\n          200.0\n        ],\n        \"semantic_type\": \"\",\n        \"description\": \"\"\n      }\n    },\n    {\n      \"column\": \"length\",\n      \"properties\": {\n        \"dtype\": \"number\",\n        \"std\": 70.55109804548368,\n        \"min\": 0.0,\n        \"max\": 200.0,\n        \"num_unique_values\": 8,\n        \"samples\": [\n          0.4938656716417911,\n          0.4791044776119402,\n          200.0\n        ],\n        \"semantic_type\": \"\",\n        \"description\": \"\"\n      }\n    },\n    {\n      \"column\": \"width\",\n      \"properties\": {\n        \"dtype\": \"number\",\n        \"std\": 55.450705967667155,\n        \"min\": 2.10662838816654,\n        \"max\": 200.0,\n        \"num_unique_values\": 8,\n        \"samples\": [\n          65.8875,\n          65.5,\n          200.0\n        ],\n        \"semantic_type\": \"\",\n        \"description\": \"\"\n      }\n    },\n    {\n      \"column\": \"height\",\n      \"properties\": {\n        \"dtype\": \"number\",\n        \"std\": 69.50946632112365,\n        \"min\": 0.04465831089767925,\n        \"max\": 200.0,\n        \"num_unique_values\": 8,\n        \"samples\": [\n          4.0023415369745825,\n          4.009149716158869,\n          200.0\n        ],\n        \"semantic_type\": \"\",\n        \"description\": \"\"\n      }\n    },\n    {\n      \"column\": \"curb-weight\",\n      \"properties\": {\n        \"dtype\": \"number\",\n        \"std\": 1271.87216017207,\n        \"min\": 200.0,\n        \"max\": 4066.0,\n        \"num_unique_values\": 8,\n        \"samples\": [\n          2556.76,\n          2417.0,\n          200.0\n        ],\n        \"semantic_type\": \"\",\n        \"description\": \"\"\n      }\n    },\n    {\n      \"column\": \"engine-size\",\n      \"properties\": {\n        \"dtype\": \"number\",\n        \"std\": 89.8169459020527,\n        \"min\": 41.63171596114367,\n        \"max\": 326.0,\n        \"num_unique_values\": 8,\n        \"samples\": [\n          126.965,\n          120.0,\n          200.0\n        ],\n        \"semantic_type\": \"\",\n        \"description\": \"\"\n      }\n    },\n    {\n      \"column\": \"horsepower\",\n      \"properties\": {\n        \"dtype\": \"number\",\n        \"std\": 77.34749437960072,\n        \"min\": 37.45923591874863,\n        \"max\": 262.0,\n        \"num_unique_values\": 8,\n        \"samples\": [\n          103.4040404040404,\n          95.0,\n          200.0\n        ],\n        \"semantic_type\": \"\",\n        \"description\": \"\"\n      }\n    },\n    {\n      \"column\": \"price\",\n      \"properties\": {\n        \"dtype\": \"number\",\n        \"std\": 13873.758859598482,\n        \"min\": 200.0,\n        \"max\": 45400.0,\n        \"num_unique_values\": 8,\n        \"samples\": [\n          13203.415,\n          10270.0,\n          200.0\n        ],\n        \"semantic_type\": \"\",\n        \"description\": \"\"\n      }\n    }\n  ]\n}"
            }
          },
          "metadata": {},
          "execution_count": 78
        }
      ]
    },
    {
      "cell_type": "code",
      "source": [
        "#inicialmente estava a realizar comandos individuais para cada variavel. Pesquisei forma de fazer automático para todas as variáveis quantitativas, em vez de uma a uma\n",
        "\n",
        "variaveis_quantitativas= ['wheel-base','length','width','height','curb-weight','engine-size','horsepower','price']\n",
        "\n",
        "for var in variaveis_quantitativas:\n",
        "    Q1 = carros3[var].quantile(0.25)\n",
        "    Q3 = carros3[var].quantile(0.75)\n",
        "    IQR = Q3 - Q1\n",
        "\n",
        "    lim_inf = Q1 - 1.5 * IQR\n",
        "    lim_sup = Q3 + 1.5 * IQR\n",
        "\n",
        "     # Filtra os registros que são outliers\n",
        "    outliers = carros3[(carros3[var] < lim_inf) | (carros3[var] > lim_sup)]\n",
        "\n",
        "    if outliers.empty:\n",
        "        print(f\"A variável '{var}' NÃO tem outliers.\")\n",
        "    else:\n",
        "        print(f\"A variável '{var}' AINDA tem {len(outliers)} outliers.\")\n"
      ],
      "metadata": {
        "colab": {
          "base_uri": "https://localhost:8080/"
        },
        "id": "T_vDc-lOn4Gj",
        "outputId": "e473d6fd-3685-405a-8ce0-2e64d4d65fbe"
      },
      "execution_count": 79,
      "outputs": [
        {
          "output_type": "stream",
          "name": "stdout",
          "text": [
            "A variável 'wheel-base' AINDA tem 3 outliers.\n",
            "A variável 'length' AINDA tem 1 outliers.\n",
            "A variável 'width' AINDA tem 9 outliers.\n",
            "A variável 'height' NÃO tem outliers.\n",
            "A variável 'curb-weight' NÃO tem outliers.\n",
            "A variável 'engine-size' AINDA tem 10 outliers.\n",
            "A variável 'horsepower' AINDA tem 5 outliers.\n",
            "A variável 'price' AINDA tem 14 outliers.\n"
          ]
        }
      ]
    },
    {
      "cell_type": "markdown",
      "source": [
        "Linha 3"
      ],
      "metadata": {
        "id": "O0rAsTQQFq9l"
      }
    },
    {
      "cell_type": "code",
      "source": [
        "#length é a variável com menor número de outliers\n",
        "\n",
        "Q1 = carros3['length'].quantile(0.25)\n",
        "Q3 = carros3['length'].quantile(0.75)\n",
        "IQR = Q3 - Q1\n",
        "lim_inf = Q1 - 1.5 * IQR\n",
        "lim_sup = Q3 + 1.5 * IQR\n",
        "#precisei de conseguir visualizar o outlier que estava a eliminar, para todo o processo fazer mais lógica para mim nesta fase\n",
        "\n",
        "# Identificar outliers\n",
        "length_outliers= carros3[(carros3 ['length'] < lim_inf) | (carros3['length'] > lim_sup)]\n",
        "\n",
        "# Número de outliers\n",
        "num_outliers = len(length_outliers)\n",
        "\n",
        "print(f\"Número de outliers: {num_outliers}\")\n",
        "print(f\"Outliers encontrados: {length_outliers}\")"
      ],
      "metadata": {
        "id": "6B3pKyrceWGa",
        "colab": {
          "base_uri": "https://localhost:8080/"
        },
        "outputId": "92dcaeea-93ce-495a-bdbc-6100d86e150f"
      },
      "execution_count": 80,
      "outputs": [
        {
          "output_type": "stream",
          "name": "stdout",
          "text": [
            "Número de outliers: 1\n",
            "Outliers encontrados:          make fuel-type aspiration num-of-doors body-style drive-wheels  \\\n",
            "91  chevrolet       gas        std          two  hatchback          fwd   \n",
            "\n",
            "   engine-location  wheel-base  length  width    height  curb-weight  \\\n",
            "91           front        88.4     0.0   60.3  3.992681         1488   \n",
            "\n",
            "    engine-size  horsepower  price  \n",
            "91           61        48.0   5151  \n"
          ]
        }
      ]
    },
    {
      "cell_type": "code",
      "source": [
        "#eliminar outliers\n",
        "carros3=carros3.drop(length_outliers.index)"
      ],
      "metadata": {
        "id": "Sdm_hRpaqKrc"
      },
      "execution_count": 81,
      "outputs": []
    },
    {
      "cell_type": "markdown",
      "source": [
        "Linha 4"
      ],
      "metadata": {
        "id": "G6qIYfcvqdMJ"
      }
    },
    {
      "cell_type": "code",
      "source": [
        "#Verificação de eliminação de outlier\n",
        "Min_length= carros3['length'].min()\n",
        "print(Min_length)"
      ],
      "metadata": {
        "colab": {
          "base_uri": "https://localhost:8080/"
        },
        "id": "BfULmNFao385",
        "outputId": "5da5ceca-238d-425e-e22f-9632876392f1"
      },
      "execution_count": 82,
      "outputs": [
        {
          "output_type": "stream",
          "name": "stdout",
          "text": [
            "0.0522388059701492\n"
          ]
        }
      ]
    },
    {
      "cell_type": "markdown",
      "source": [
        "Linha 5"
      ],
      "metadata": {
        "id": "wC3WSytXq-oB"
      }
    },
    {
      "cell_type": "code",
      "source": [
        "#estandardização price\n",
        "\n",
        "std_quantitativas= ['wheel-base','length','width','height','curb-weight','engine-size','horsepower','price']\n",
        "\n",
        "for var in std_quantitativas:\n",
        "    media_quant = carros3[var].mean()\n",
        "    desvio_quant = carros3[var].std()\n",
        "\n",
        "    nome_colunas_z= f'{var}_z'\n",
        "    carros3[nome_colunas_z] = (carros3[var] - media_quant) / desvio_quant\n",
        "\n",
        "\n",
        "    outliers_std = carros3.loc[(carros3[nome_colunas_z] > 3) | (carros3[nome_colunas_z] < -3)]\n",
        "\n",
        "    num_outliers_std = len(outliers_std)\n",
        "    print(f\"Variável '{var}': {num_outliers_std} outliers\")"
      ],
      "metadata": {
        "colab": {
          "base_uri": "https://localhost:8080/"
        },
        "id": "Bc2lkSftt-6O",
        "outputId": "3226769e-28a0-40be-ee64-0935fe3d5687"
      },
      "execution_count": 83,
      "outputs": [
        {
          "output_type": "stream",
          "name": "stdout",
          "text": [
            "Variável 'wheel-base': 1 outliers\n",
            "Variável 'length': 0 outliers\n",
            "Variável 'width': 0 outliers\n",
            "Variável 'height': 0 outliers\n",
            "Variável 'curb-weight': 0 outliers\n",
            "Variável 'engine-size': 5 outliers\n",
            "Variável 'horsepower': 1 outliers\n",
            "Variável 'price': 3 outliers\n"
          ]
        }
      ]
    },
    {
      "cell_type": "markdown",
      "source": [
        "Linha 6"
      ],
      "metadata": {
        "id": "33ivpG8DwFSW"
      }
    },
    {
      "cell_type": "code",
      "source": [
        "#horsepower\n",
        "carros3['horsepower_lim'] = carros3['horsepower_z'].clip(lower=-3, upper=3)\n",
        "\n",
        "# wheel-base\n",
        "carros3['wheel-base_lim'] = carros3['wheel-base_z'].clip(lower=-3, upper=3)"
      ],
      "metadata": {
        "id": "DnmQEryd06CE"
      },
      "execution_count": 84,
      "outputs": []
    },
    {
      "cell_type": "code",
      "source": [
        "carros3.describe()"
      ],
      "metadata": {
        "colab": {
          "base_uri": "https://localhost:8080/",
          "height": 337
        },
        "id": "UL6JWiRQzUA2",
        "outputId": "48ef4035-97d2-49e2-929d-ea46ab0af16d"
      },
      "execution_count": 85,
      "outputs": [
        {
          "output_type": "execute_result",
          "data": {
            "text/plain": [
              "       wheel-base      length       width      height  curb-weight  \\\n",
              "count  199.000000  199.000000  199.000000  199.000000   199.000000   \n",
              "mean    98.844221    0.496347   65.915578    4.002390  2562.130653   \n",
              "std      6.051384    0.181442    2.074085    0.044766   514.060576   \n",
              "min     86.600000    0.052239   61.800000    3.887730  1713.000000   \n",
              "25%     94.500000    0.383582   64.150000    3.970292  2179.500000   \n",
              "50%     97.000000    0.479104   65.500000    4.009150  2420.000000   \n",
              "75%    102.400000    0.632836   66.750000    4.035125  2930.500000   \n",
              "max    120.900000    1.000000   72.000000    4.107590  4066.000000   \n",
              "\n",
              "       engine-size  horsepower         price  wheel-base_z      length_z  \\\n",
              "count   199.000000  199.000000    199.000000  1.990000e+02  1.990000e+02   \n",
              "mean    127.296482  103.682453  13243.879397 -2.124487e-15  3.570567e-17   \n",
              "std      41.471270   37.345685   7966.296064  1.000000e+00  1.000000e+00   \n",
              "min      70.000000   52.000000   5118.000000 -2.023375e+00 -2.447664e+00   \n",
              "25%      98.000000   70.000000   7781.500000 -7.178889e-01 -6.214957e-01   \n",
              "50%     120.000000   95.000000  10295.000000 -3.047602e-01 -9.503283e-02   \n",
              "75%     143.000000  116.000000  16501.500000  5.875976e-01  7.522434e-01   \n",
              "max     326.000000  262.000000  45400.000000  3.644750e+00  2.775835e+00   \n",
              "\n",
              "            width_z      height_z  curb-weight_z  engine-size_z  horsepower_z  \\\n",
              "count  1.990000e+02  1.990000e+02   1.990000e+02   1.990000e+02    199.000000   \n",
              "mean   1.035464e-15 -2.767189e-15   1.071170e-16   1.428227e-16      0.000000   \n",
              "std    1.000000e+00  1.000000e+00   1.000000e+00   1.000000e+00      1.000000   \n",
              "min   -1.984286e+00 -2.561334e+00  -1.651810e+00  -1.381595e+00     -1.383894   \n",
              "25%   -8.512565e-01 -7.170267e-01  -7.443299e-01  -7.064284e-01     -0.901910   \n",
              "50%   -2.003669e-01  1.510004e-01  -2.764862e-01  -1.759407e-01     -0.232489   \n",
              "75%    4.023086e-01  7.312466e-01   7.165874e-01   3.786602e-01      0.329825   \n",
              "max    2.933546e+00  2.350009e+00   2.925471e+00   4.791354e+00      4.239246   \n",
              "\n",
              "            price_z  horsepower_lim  wheel-base_lim  \n",
              "count  1.990000e+02      199.000000      199.000000  \n",
              "mean   3.570567e-17       -0.006227       -0.003240  \n",
              "std    1.000000e+00        0.977063        0.989117  \n",
              "min   -1.020032e+00       -1.383894       -2.023375  \n",
              "25%   -6.856862e-01       -0.901910       -0.717889  \n",
              "50%   -3.701694e-01       -0.232489       -0.304760  \n",
              "75%    4.089254e-01        0.329825        0.587598  \n",
              "max    4.036521e+00        3.000000        3.000000  "
            ],
            "text/html": [
              "\n",
              "  <div id=\"df-22bdd274-0bff-415c-bc4a-7e555d12bc9c\" class=\"colab-df-container\">\n",
              "    <div>\n",
              "<style scoped>\n",
              "    .dataframe tbody tr th:only-of-type {\n",
              "        vertical-align: middle;\n",
              "    }\n",
              "\n",
              "    .dataframe tbody tr th {\n",
              "        vertical-align: top;\n",
              "    }\n",
              "\n",
              "    .dataframe thead th {\n",
              "        text-align: right;\n",
              "    }\n",
              "</style>\n",
              "<table border=\"1\" class=\"dataframe\">\n",
              "  <thead>\n",
              "    <tr style=\"text-align: right;\">\n",
              "      <th></th>\n",
              "      <th>wheel-base</th>\n",
              "      <th>length</th>\n",
              "      <th>width</th>\n",
              "      <th>height</th>\n",
              "      <th>curb-weight</th>\n",
              "      <th>engine-size</th>\n",
              "      <th>horsepower</th>\n",
              "      <th>price</th>\n",
              "      <th>wheel-base_z</th>\n",
              "      <th>length_z</th>\n",
              "      <th>width_z</th>\n",
              "      <th>height_z</th>\n",
              "      <th>curb-weight_z</th>\n",
              "      <th>engine-size_z</th>\n",
              "      <th>horsepower_z</th>\n",
              "      <th>price_z</th>\n",
              "      <th>horsepower_lim</th>\n",
              "      <th>wheel-base_lim</th>\n",
              "    </tr>\n",
              "  </thead>\n",
              "  <tbody>\n",
              "    <tr>\n",
              "      <th>count</th>\n",
              "      <td>199.000000</td>\n",
              "      <td>199.000000</td>\n",
              "      <td>199.000000</td>\n",
              "      <td>199.000000</td>\n",
              "      <td>199.000000</td>\n",
              "      <td>199.000000</td>\n",
              "      <td>199.000000</td>\n",
              "      <td>199.000000</td>\n",
              "      <td>1.990000e+02</td>\n",
              "      <td>1.990000e+02</td>\n",
              "      <td>1.990000e+02</td>\n",
              "      <td>1.990000e+02</td>\n",
              "      <td>1.990000e+02</td>\n",
              "      <td>1.990000e+02</td>\n",
              "      <td>199.000000</td>\n",
              "      <td>1.990000e+02</td>\n",
              "      <td>199.000000</td>\n",
              "      <td>199.000000</td>\n",
              "    </tr>\n",
              "    <tr>\n",
              "      <th>mean</th>\n",
              "      <td>98.844221</td>\n",
              "      <td>0.496347</td>\n",
              "      <td>65.915578</td>\n",
              "      <td>4.002390</td>\n",
              "      <td>2562.130653</td>\n",
              "      <td>127.296482</td>\n",
              "      <td>103.682453</td>\n",
              "      <td>13243.879397</td>\n",
              "      <td>-2.124487e-15</td>\n",
              "      <td>3.570567e-17</td>\n",
              "      <td>1.035464e-15</td>\n",
              "      <td>-2.767189e-15</td>\n",
              "      <td>1.071170e-16</td>\n",
              "      <td>1.428227e-16</td>\n",
              "      <td>0.000000</td>\n",
              "      <td>3.570567e-17</td>\n",
              "      <td>-0.006227</td>\n",
              "      <td>-0.003240</td>\n",
              "    </tr>\n",
              "    <tr>\n",
              "      <th>std</th>\n",
              "      <td>6.051384</td>\n",
              "      <td>0.181442</td>\n",
              "      <td>2.074085</td>\n",
              "      <td>0.044766</td>\n",
              "      <td>514.060576</td>\n",
              "      <td>41.471270</td>\n",
              "      <td>37.345685</td>\n",
              "      <td>7966.296064</td>\n",
              "      <td>1.000000e+00</td>\n",
              "      <td>1.000000e+00</td>\n",
              "      <td>1.000000e+00</td>\n",
              "      <td>1.000000e+00</td>\n",
              "      <td>1.000000e+00</td>\n",
              "      <td>1.000000e+00</td>\n",
              "      <td>1.000000</td>\n",
              "      <td>1.000000e+00</td>\n",
              "      <td>0.977063</td>\n",
              "      <td>0.989117</td>\n",
              "    </tr>\n",
              "    <tr>\n",
              "      <th>min</th>\n",
              "      <td>86.600000</td>\n",
              "      <td>0.052239</td>\n",
              "      <td>61.800000</td>\n",
              "      <td>3.887730</td>\n",
              "      <td>1713.000000</td>\n",
              "      <td>70.000000</td>\n",
              "      <td>52.000000</td>\n",
              "      <td>5118.000000</td>\n",
              "      <td>-2.023375e+00</td>\n",
              "      <td>-2.447664e+00</td>\n",
              "      <td>-1.984286e+00</td>\n",
              "      <td>-2.561334e+00</td>\n",
              "      <td>-1.651810e+00</td>\n",
              "      <td>-1.381595e+00</td>\n",
              "      <td>-1.383894</td>\n",
              "      <td>-1.020032e+00</td>\n",
              "      <td>-1.383894</td>\n",
              "      <td>-2.023375</td>\n",
              "    </tr>\n",
              "    <tr>\n",
              "      <th>25%</th>\n",
              "      <td>94.500000</td>\n",
              "      <td>0.383582</td>\n",
              "      <td>64.150000</td>\n",
              "      <td>3.970292</td>\n",
              "      <td>2179.500000</td>\n",
              "      <td>98.000000</td>\n",
              "      <td>70.000000</td>\n",
              "      <td>7781.500000</td>\n",
              "      <td>-7.178889e-01</td>\n",
              "      <td>-6.214957e-01</td>\n",
              "      <td>-8.512565e-01</td>\n",
              "      <td>-7.170267e-01</td>\n",
              "      <td>-7.443299e-01</td>\n",
              "      <td>-7.064284e-01</td>\n",
              "      <td>-0.901910</td>\n",
              "      <td>-6.856862e-01</td>\n",
              "      <td>-0.901910</td>\n",
              "      <td>-0.717889</td>\n",
              "    </tr>\n",
              "    <tr>\n",
              "      <th>50%</th>\n",
              "      <td>97.000000</td>\n",
              "      <td>0.479104</td>\n",
              "      <td>65.500000</td>\n",
              "      <td>4.009150</td>\n",
              "      <td>2420.000000</td>\n",
              "      <td>120.000000</td>\n",
              "      <td>95.000000</td>\n",
              "      <td>10295.000000</td>\n",
              "      <td>-3.047602e-01</td>\n",
              "      <td>-9.503283e-02</td>\n",
              "      <td>-2.003669e-01</td>\n",
              "      <td>1.510004e-01</td>\n",
              "      <td>-2.764862e-01</td>\n",
              "      <td>-1.759407e-01</td>\n",
              "      <td>-0.232489</td>\n",
              "      <td>-3.701694e-01</td>\n",
              "      <td>-0.232489</td>\n",
              "      <td>-0.304760</td>\n",
              "    </tr>\n",
              "    <tr>\n",
              "      <th>75%</th>\n",
              "      <td>102.400000</td>\n",
              "      <td>0.632836</td>\n",
              "      <td>66.750000</td>\n",
              "      <td>4.035125</td>\n",
              "      <td>2930.500000</td>\n",
              "      <td>143.000000</td>\n",
              "      <td>116.000000</td>\n",
              "      <td>16501.500000</td>\n",
              "      <td>5.875976e-01</td>\n",
              "      <td>7.522434e-01</td>\n",
              "      <td>4.023086e-01</td>\n",
              "      <td>7.312466e-01</td>\n",
              "      <td>7.165874e-01</td>\n",
              "      <td>3.786602e-01</td>\n",
              "      <td>0.329825</td>\n",
              "      <td>4.089254e-01</td>\n",
              "      <td>0.329825</td>\n",
              "      <td>0.587598</td>\n",
              "    </tr>\n",
              "    <tr>\n",
              "      <th>max</th>\n",
              "      <td>120.900000</td>\n",
              "      <td>1.000000</td>\n",
              "      <td>72.000000</td>\n",
              "      <td>4.107590</td>\n",
              "      <td>4066.000000</td>\n",
              "      <td>326.000000</td>\n",
              "      <td>262.000000</td>\n",
              "      <td>45400.000000</td>\n",
              "      <td>3.644750e+00</td>\n",
              "      <td>2.775835e+00</td>\n",
              "      <td>2.933546e+00</td>\n",
              "      <td>2.350009e+00</td>\n",
              "      <td>2.925471e+00</td>\n",
              "      <td>4.791354e+00</td>\n",
              "      <td>4.239246</td>\n",
              "      <td>4.036521e+00</td>\n",
              "      <td>3.000000</td>\n",
              "      <td>3.000000</td>\n",
              "    </tr>\n",
              "  </tbody>\n",
              "</table>\n",
              "</div>\n",
              "    <div class=\"colab-df-buttons\">\n",
              "\n",
              "  <div class=\"colab-df-container\">\n",
              "    <button class=\"colab-df-convert\" onclick=\"convertToInteractive('df-22bdd274-0bff-415c-bc4a-7e555d12bc9c')\"\n",
              "            title=\"Convert this dataframe to an interactive table.\"\n",
              "            style=\"display:none;\">\n",
              "\n",
              "  <svg xmlns=\"http://www.w3.org/2000/svg\" height=\"24px\" viewBox=\"0 -960 960 960\">\n",
              "    <path d=\"M120-120v-720h720v720H120Zm60-500h600v-160H180v160Zm220 220h160v-160H400v160Zm0 220h160v-160H400v160ZM180-400h160v-160H180v160Zm440 0h160v-160H620v160ZM180-180h160v-160H180v160Zm440 0h160v-160H620v160Z\"/>\n",
              "  </svg>\n",
              "    </button>\n",
              "\n",
              "  <style>\n",
              "    .colab-df-container {\n",
              "      display:flex;\n",
              "      gap: 12px;\n",
              "    }\n",
              "\n",
              "    .colab-df-convert {\n",
              "      background-color: #E8F0FE;\n",
              "      border: none;\n",
              "      border-radius: 50%;\n",
              "      cursor: pointer;\n",
              "      display: none;\n",
              "      fill: #1967D2;\n",
              "      height: 32px;\n",
              "      padding: 0 0 0 0;\n",
              "      width: 32px;\n",
              "    }\n",
              "\n",
              "    .colab-df-convert:hover {\n",
              "      background-color: #E2EBFA;\n",
              "      box-shadow: 0px 1px 2px rgba(60, 64, 67, 0.3), 0px 1px 3px 1px rgba(60, 64, 67, 0.15);\n",
              "      fill: #174EA6;\n",
              "    }\n",
              "\n",
              "    .colab-df-buttons div {\n",
              "      margin-bottom: 4px;\n",
              "    }\n",
              "\n",
              "    [theme=dark] .colab-df-convert {\n",
              "      background-color: #3B4455;\n",
              "      fill: #D2E3FC;\n",
              "    }\n",
              "\n",
              "    [theme=dark] .colab-df-convert:hover {\n",
              "      background-color: #434B5C;\n",
              "      box-shadow: 0px 1px 3px 1px rgba(0, 0, 0, 0.15);\n",
              "      filter: drop-shadow(0px 1px 2px rgba(0, 0, 0, 0.3));\n",
              "      fill: #FFFFFF;\n",
              "    }\n",
              "  </style>\n",
              "\n",
              "    <script>\n",
              "      const buttonEl =\n",
              "        document.querySelector('#df-22bdd274-0bff-415c-bc4a-7e555d12bc9c button.colab-df-convert');\n",
              "      buttonEl.style.display =\n",
              "        google.colab.kernel.accessAllowed ? 'block' : 'none';\n",
              "\n",
              "      async function convertToInteractive(key) {\n",
              "        const element = document.querySelector('#df-22bdd274-0bff-415c-bc4a-7e555d12bc9c');\n",
              "        const dataTable =\n",
              "          await google.colab.kernel.invokeFunction('convertToInteractive',\n",
              "                                                    [key], {});\n",
              "        if (!dataTable) return;\n",
              "\n",
              "        const docLinkHtml = 'Like what you see? Visit the ' +\n",
              "          '<a target=\"_blank\" href=https://colab.research.google.com/notebooks/data_table.ipynb>data table notebook</a>'\n",
              "          + ' to learn more about interactive tables.';\n",
              "        element.innerHTML = '';\n",
              "        dataTable['output_type'] = 'display_data';\n",
              "        await google.colab.output.renderOutput(dataTable, element);\n",
              "        const docLink = document.createElement('div');\n",
              "        docLink.innerHTML = docLinkHtml;\n",
              "        element.appendChild(docLink);\n",
              "      }\n",
              "    </script>\n",
              "  </div>\n",
              "\n",
              "\n",
              "    <div id=\"df-52111edc-bc52-450b-a859-ba85e5be2af4\">\n",
              "      <button class=\"colab-df-quickchart\" onclick=\"quickchart('df-52111edc-bc52-450b-a859-ba85e5be2af4')\"\n",
              "                title=\"Suggest charts\"\n",
              "                style=\"display:none;\">\n",
              "\n",
              "<svg xmlns=\"http://www.w3.org/2000/svg\" height=\"24px\"viewBox=\"0 0 24 24\"\n",
              "     width=\"24px\">\n",
              "    <g>\n",
              "        <path d=\"M19 3H5c-1.1 0-2 .9-2 2v14c0 1.1.9 2 2 2h14c1.1 0 2-.9 2-2V5c0-1.1-.9-2-2-2zM9 17H7v-7h2v7zm4 0h-2V7h2v10zm4 0h-2v-4h2v4z\"/>\n",
              "    </g>\n",
              "</svg>\n",
              "      </button>\n",
              "\n",
              "<style>\n",
              "  .colab-df-quickchart {\n",
              "      --bg-color: #E8F0FE;\n",
              "      --fill-color: #1967D2;\n",
              "      --hover-bg-color: #E2EBFA;\n",
              "      --hover-fill-color: #174EA6;\n",
              "      --disabled-fill-color: #AAA;\n",
              "      --disabled-bg-color: #DDD;\n",
              "  }\n",
              "\n",
              "  [theme=dark] .colab-df-quickchart {\n",
              "      --bg-color: #3B4455;\n",
              "      --fill-color: #D2E3FC;\n",
              "      --hover-bg-color: #434B5C;\n",
              "      --hover-fill-color: #FFFFFF;\n",
              "      --disabled-bg-color: #3B4455;\n",
              "      --disabled-fill-color: #666;\n",
              "  }\n",
              "\n",
              "  .colab-df-quickchart {\n",
              "    background-color: var(--bg-color);\n",
              "    border: none;\n",
              "    border-radius: 50%;\n",
              "    cursor: pointer;\n",
              "    display: none;\n",
              "    fill: var(--fill-color);\n",
              "    height: 32px;\n",
              "    padding: 0;\n",
              "    width: 32px;\n",
              "  }\n",
              "\n",
              "  .colab-df-quickchart:hover {\n",
              "    background-color: var(--hover-bg-color);\n",
              "    box-shadow: 0 1px 2px rgba(60, 64, 67, 0.3), 0 1px 3px 1px rgba(60, 64, 67, 0.15);\n",
              "    fill: var(--button-hover-fill-color);\n",
              "  }\n",
              "\n",
              "  .colab-df-quickchart-complete:disabled,\n",
              "  .colab-df-quickchart-complete:disabled:hover {\n",
              "    background-color: var(--disabled-bg-color);\n",
              "    fill: var(--disabled-fill-color);\n",
              "    box-shadow: none;\n",
              "  }\n",
              "\n",
              "  .colab-df-spinner {\n",
              "    border: 2px solid var(--fill-color);\n",
              "    border-color: transparent;\n",
              "    border-bottom-color: var(--fill-color);\n",
              "    animation:\n",
              "      spin 1s steps(1) infinite;\n",
              "  }\n",
              "\n",
              "  @keyframes spin {\n",
              "    0% {\n",
              "      border-color: transparent;\n",
              "      border-bottom-color: var(--fill-color);\n",
              "      border-left-color: var(--fill-color);\n",
              "    }\n",
              "    20% {\n",
              "      border-color: transparent;\n",
              "      border-left-color: var(--fill-color);\n",
              "      border-top-color: var(--fill-color);\n",
              "    }\n",
              "    30% {\n",
              "      border-color: transparent;\n",
              "      border-left-color: var(--fill-color);\n",
              "      border-top-color: var(--fill-color);\n",
              "      border-right-color: var(--fill-color);\n",
              "    }\n",
              "    40% {\n",
              "      border-color: transparent;\n",
              "      border-right-color: var(--fill-color);\n",
              "      border-top-color: var(--fill-color);\n",
              "    }\n",
              "    60% {\n",
              "      border-color: transparent;\n",
              "      border-right-color: var(--fill-color);\n",
              "    }\n",
              "    80% {\n",
              "      border-color: transparent;\n",
              "      border-right-color: var(--fill-color);\n",
              "      border-bottom-color: var(--fill-color);\n",
              "    }\n",
              "    90% {\n",
              "      border-color: transparent;\n",
              "      border-bottom-color: var(--fill-color);\n",
              "    }\n",
              "  }\n",
              "</style>\n",
              "\n",
              "      <script>\n",
              "        async function quickchart(key) {\n",
              "          const quickchartButtonEl =\n",
              "            document.querySelector('#' + key + ' button');\n",
              "          quickchartButtonEl.disabled = true;  // To prevent multiple clicks.\n",
              "          quickchartButtonEl.classList.add('colab-df-spinner');\n",
              "          try {\n",
              "            const charts = await google.colab.kernel.invokeFunction(\n",
              "                'suggestCharts', [key], {});\n",
              "          } catch (error) {\n",
              "            console.error('Error during call to suggestCharts:', error);\n",
              "          }\n",
              "          quickchartButtonEl.classList.remove('colab-df-spinner');\n",
              "          quickchartButtonEl.classList.add('colab-df-quickchart-complete');\n",
              "        }\n",
              "        (() => {\n",
              "          let quickchartButtonEl =\n",
              "            document.querySelector('#df-52111edc-bc52-450b-a859-ba85e5be2af4 button');\n",
              "          quickchartButtonEl.style.display =\n",
              "            google.colab.kernel.accessAllowed ? 'block' : 'none';\n",
              "        })();\n",
              "      </script>\n",
              "    </div>\n",
              "\n",
              "    </div>\n",
              "  </div>\n"
            ],
            "application/vnd.google.colaboratory.intrinsic+json": {
              "type": "dataframe",
              "summary": "{\n  \"name\": \"carros3\",\n  \"rows\": 8,\n  \"fields\": [\n    {\n      \"column\": \"wheel-base\",\n      \"properties\": {\n        \"dtype\": \"number\",\n        \"std\": 52.490207071197446,\n        \"min\": 6.05138386972305,\n        \"max\": 199.0,\n        \"num_unique_values\": 8,\n        \"samples\": [\n          98.84422110552765,\n          97.0,\n          199.0\n        ],\n        \"semantic_type\": \"\",\n        \"description\": \"\"\n      }\n    },\n    {\n      \"column\": \"length\",\n      \"properties\": {\n        \"dtype\": \"number\",\n        \"std\": 70.19479275784472,\n        \"min\": 0.0522388059701492,\n        \"max\": 199.0,\n        \"num_unique_values\": 8,\n        \"samples\": [\n          0.4963474086852172,\n          0.4791044776119402,\n          199.0\n        ],\n        \"semantic_type\": \"\",\n        \"description\": \"\"\n      }\n    },\n    {\n      \"column\": \"width\",\n      \"properties\": {\n        \"dtype\": \"number\",\n        \"std\": 55.077871647454046,\n        \"min\": 2.074084571762153,\n        \"max\": 199.0,\n        \"num_unique_values\": 8,\n        \"samples\": [\n          65.91557788944723,\n          65.5,\n          199.0\n        ],\n        \"semantic_type\": \"\",\n        \"description\": \"\"\n      }\n    },\n    {\n      \"column\": \"height\",\n      \"properties\": {\n        \"dtype\": \"number\",\n        \"std\": 69.15595324963915,\n        \"min\": 0.044765651570617945,\n        \"max\": 199.0,\n        \"num_unique_values\": 8,\n        \"samples\": [\n          4.002390082846588,\n          4.009149716158869,\n          199.0\n        ],\n        \"semantic_type\": \"\",\n        \"description\": \"\"\n      }\n    },\n    {\n      \"column\": \"curb-weight\",\n      \"properties\": {\n        \"dtype\": \"number\",\n        \"std\": 1262.0914286085317,\n        \"min\": 199.0,\n        \"max\": 4066.0,\n        \"num_unique_values\": 8,\n        \"samples\": [\n          2562.1306532663316,\n          2420.0,\n          199.0\n        ],\n        \"semantic_type\": \"\",\n        \"description\": \"\"\n      }\n    },\n    {\n      \"column\": \"engine-size\",\n      \"properties\": {\n        \"dtype\": \"number\",\n        \"std\": 88.65377974943823,\n        \"min\": 41.471269569248776,\n        \"max\": 326.0,\n        \"num_unique_values\": 8,\n        \"samples\": [\n          127.2964824120603,\n          120.0,\n          199.0\n        ],\n        \"semantic_type\": \"\",\n        \"description\": \"\"\n      }\n    },\n    {\n      \"column\": \"horsepower\",\n      \"properties\": {\n        \"dtype\": \"number\",\n        \"std\": 76.70914345655135,\n        \"min\": 37.34568545051997,\n        \"max\": 262.0,\n        \"num_unique_values\": 8,\n        \"samples\": [\n          103.68245266737729,\n          95.0,\n          199.0\n        ],\n        \"semantic_type\": \"\",\n        \"description\": \"\"\n      }\n    },\n    {\n      \"column\": \"price\",\n      \"properties\": {\n        \"dtype\": \"number\",\n        \"std\": 13872.763443766786,\n        \"min\": 199.0,\n        \"max\": 45400.0,\n        \"num_unique_values\": 8,\n        \"samples\": [\n          13243.879396984925,\n          10295.0,\n          199.0\n        ],\n        \"semantic_type\": \"\",\n        \"description\": \"\"\n      }\n    },\n    {\n      \"column\": \"wheel-base_z\",\n      \"properties\": {\n        \"dtype\": \"number\",\n        \"std\": 70.26565885776796,\n        \"min\": -2.0233753748112546,\n        \"max\": 199.0,\n        \"num_unique_values\": 8,\n        \"samples\": [\n          -2.124487074257586e-15,\n          -0.3047602243108162,\n          199.0\n        ],\n        \"semantic_type\": \"\",\n        \"description\": \"\"\n      }\n    },\n    {\n      \"column\": \"length_z\",\n      \"properties\": {\n        \"dtype\": \"number\",\n        \"std\": 70.30387778622577,\n        \"min\": -2.44766379776064,\n        \"max\": 199.0,\n        \"num_unique_values\": 8,\n        \"samples\": [\n          3.5705665113572874e-17,\n          -0.0950328318283446,\n          199.0\n        ],\n        \"semantic_type\": \"\",\n        \"description\": \"\"\n      }\n    },\n    {\n      \"column\": \"width_z\",\n      \"properties\": {\n        \"dtype\": \"number\",\n        \"std\": 70.30592460554077,\n        \"min\": -1.9842864391737993,\n        \"max\": 199.0,\n        \"num_unique_values\": 8,\n        \"samples\": [\n          1.0354642882936133e-15,\n          -0.2003668968494171,\n          199.0\n        ],\n        \"semantic_type\": \"\",\n        \"description\": \"\"\n      }\n    },\n    {\n      \"column\": \"height_z\",\n      \"properties\": {\n        \"dtype\": \"number\",\n        \"std\": 70.3231922259199,\n        \"min\": -2.561333655707225,\n        \"max\": 199.0,\n        \"num_unique_values\": 8,\n        \"samples\": [\n          -2.767189046301898e-15,\n          0.15100044509834143,\n          199.0\n        ],\n        \"semantic_type\": \"\",\n        \"description\": \"\"\n      }\n    },\n    {\n      \"column\": \"curb-weight_z\",\n      \"properties\": {\n        \"dtype\": \"number\",\n        \"std\": 70.27074351295937,\n        \"min\": -1.6518104926722337,\n        \"max\": 199.0,\n        \"num_unique_values\": 8,\n        \"samples\": [\n          1.0711699534071862e-16,\n          -0.276486196196769,\n          199.0\n        ],\n        \"semantic_type\": \"\",\n        \"description\": \"\"\n      }\n    },\n    {\n      \"column\": \"engine-size_z\",\n      \"properties\": {\n        \"dtype\": \"number\",\n        \"std\": 70.18463517845845,\n        \"min\": -1.3815946077171948,\n        \"max\": 199.0,\n        \"num_unique_values\": 8,\n        \"samples\": [\n          1.428226604542915e-16,\n          -0.17594065693785008,\n          199.0\n        ],\n        \"semantic_type\": \"\",\n        \"description\": \"\"\n      }\n    },\n    {\n      \"column\": \"horsepower_z\",\n      \"properties\": {\n        \"dtype\": \"number\",\n        \"std\": 70.2239255100388,\n        \"min\": -1.383893535328261,\n        \"max\": 199.0,\n        \"num_unique_values\": 8,\n        \"samples\": [\n          0.0,\n          -0.23248877514594937,\n          199.0\n        ],\n        \"semantic_type\": \"\",\n        \"description\": \"\"\n      }\n    },\n    {\n      \"column\": \"price_z\",\n      \"properties\": {\n        \"dtype\": \"number\",\n        \"std\": 70.204729807826,\n        \"min\": -1.020032312628142,\n        \"max\": 199.0,\n        \"num_unique_values\": 8,\n        \"samples\": [\n          3.5705665113572874e-17,\n          -0.3701694455475309,\n          199.0\n        ],\n        \"semantic_type\": \"\",\n        \"description\": \"\"\n      }\n    },\n    {\n      \"column\": \"horsepower_lim\",\n      \"properties\": {\n        \"dtype\": \"number\",\n        \"std\": 70.2796975405183,\n        \"min\": -1.383893535328261,\n        \"max\": 199.0,\n        \"num_unique_values\": 8,\n        \"samples\": [\n          -0.006227366789665785,\n          -0.23248877514594937,\n          199.0\n        ],\n        \"semantic_type\": \"\",\n        \"description\": \"\"\n      }\n    },\n    {\n      \"column\": \"wheel-base_lim\",\n      \"properties\": {\n        \"dtype\": \"number\",\n        \"std\": 70.29490801201821,\n        \"min\": -2.0233753748112546,\n        \"max\": 199.0,\n        \"num_unique_values\": 8,\n        \"samples\": [\n          -0.0032399477020353578,\n          -0.3047602243108162,\n          199.0\n        ],\n        \"semantic_type\": \"\",\n        \"description\": \"\"\n      }\n    }\n  ]\n}"
            }
          },
          "metadata": {},
          "execution_count": 85
        }
      ]
    },
    {
      "cell_type": "markdown",
      "source": [
        "Linha 7"
      ],
      "metadata": {
        "id": "5DMHX8IR2WW-"
      }
    },
    {
      "cell_type": "code",
      "source": [
        "#Validar observações diferentes\n",
        "\n",
        "variaveis = [\"horsepower\", \"wheel-base\"]\n",
        "\n",
        "# Para cada variável, verificar onde há diferença\n",
        "for var in variaveis:\n",
        "    var_z = f\"{var}_z\"\n",
        "    var_lim = f\"{var}_lim\"\n",
        "\n",
        "    # Cria uma Series booleana indicando onde são diferentes\n",
        "    diferente = carros3[var_z] != carros3[var_lim]\n",
        "\n",
        "    # Filtra apenas linhas onde são diferentes\n",
        "    diferentes_df = carros3.loc[diferente, [var_z, var_lim]]\n",
        "\n",
        "    print(f\"\\nDiferenças na variável '{var}':\")\n",
        "    print(diferentes_df)"
      ],
      "metadata": {
        "colab": {
          "base_uri": "https://localhost:8080/"
        },
        "id": "KQ4rC0Jxwwf5",
        "outputId": "a23025d6-f64a-4be4-9144-fb1e07961dff"
      },
      "execution_count": 86,
      "outputs": [
        {
          "output_type": "stream",
          "name": "stdout",
          "text": [
            "\n",
            "Diferenças na variável 'horsepower':\n",
            "    horsepower_z  horsepower_lim\n",
            "90      4.239246             3.0\n",
            "\n",
            "Diferenças na variável 'wheel-base':\n",
            "    wheel-base_z  wheel-base_lim\n",
            "84       3.64475             3.0\n"
          ]
        }
      ]
    },
    {
      "cell_type": "markdown",
      "source": [
        "Linha 8"
      ],
      "metadata": {
        "id": "CZDv2xAm20JH"
      }
    },
    {
      "cell_type": "code",
      "source": [
        "#comparar histogramas\n",
        "\n",
        "carros3['horsepower_z'].hist(bins=10, edgecolor='black')\n",
        "carros3['horsepower_lim'].hist(bins=10, edgecolor='black')"
      ],
      "metadata": {
        "colab": {
          "base_uri": "https://localhost:8080/",
          "height": 448
        },
        "id": "MgkO03qu3nZt",
        "outputId": "d4017b74-87b7-4c09-bda6-17630ec103cb"
      },
      "execution_count": 87,
      "outputs": [
        {
          "output_type": "execute_result",
          "data": {
            "text/plain": [
              "<Axes: >"
            ]
          },
          "metadata": {},
          "execution_count": 87
        },
        {
          "output_type": "display_data",
          "data": {
            "text/plain": [
              "<Figure size 640x480 with 1 Axes>"
            ],
            "image/png": "[encoded data removed]"
          },
          "metadata": {}
        }
      ]
    },
    {
      "cell_type": "code",
      "source": [
        "carros3['wheel-base_z'].hist(bins=10, edgecolor='black')\n",
        "carros3['wheel-base_lim'].hist(bins=10, edgecolor='black')"
      ],
      "metadata": {
        "colab": {
          "base_uri": "https://localhost:8080/",
          "height": 448
        },
        "id": "vnlhKGIc36Pz",
        "outputId": "d7f6cf8e-5a72-4b8f-e494-642d4ae384f3"
      },
      "execution_count": 88,
      "outputs": [
        {
          "output_type": "execute_result",
          "data": {
            "text/plain": [
              "<Axes: >"
            ]
          },
          "metadata": {},
          "execution_count": 88
        },
        {
          "output_type": "display_data",
          "data": {
            "text/plain": [
              "<Figure size 640x480 with 1 Axes>"
            ],
            "image/png": "[encoded data removed]"
          },
          "metadata": {}
        }
      ]
    },
    {
      "cell_type": "markdown",
      "source": [
        "Linha 9"
      ],
      "metadata": {
        "id": "UskNkDrM4Z19"
      }
    },
    {
      "cell_type": "code",
      "source": [
        "#correlação entre variáveis\n",
        "\n",
        "correl = carros3[['price','wheel-base','horsepower']].corr()\n",
        "sns.heatmap(correl, annot=True, cmap='viridis')"
      ],
      "metadata": {
        "colab": {
          "base_uri": "https://localhost:8080/",
          "height": 453
        },
        "id": "g3RDLcml4X0y",
        "outputId": "6bd0ec59-fb2c-4d29-9af8-d9b0d00a8434"
      },
      "execution_count": 89,
      "outputs": [
        {
          "output_type": "execute_result",
          "data": {
            "text/plain": [
              "<Axes: >"
            ]
          },
          "metadata": {},
          "execution_count": 89
        },
        {
          "output_type": "display_data",
          "data": {
            "text/plain": [
              "<Figure size 640x480 with 2 Axes>"
            ],
            "image/png": "[encoded data removed]"
          },
          "metadata": {}
        }
      ]
    },
    {
      "cell_type": "code",
      "source": [
        "correl_score = carros3[['price','wheel-base_z','horsepower_z']].corr()\n",
        "sns.heatmap(correl_score, annot=True, cmap='viridis')\n",
        "\n",
        "#Concluimos que o nivel de correlação entre as váriáveis originais e limitadas se mantem o mesmo, sendo que a variável price e horsepower são as que apresentam uma maior correlação positiva entre si."
      ],
      "metadata": {
        "colab": {
          "base_uri": "https://localhost:8080/",
          "height": 453
        },
        "id": "RixC5VFt4_n-",
        "outputId": "bad4cb75-719c-48c7-9467-41601a124090"
      },
      "execution_count": 90,
      "outputs": [
        {
          "output_type": "execute_result",
          "data": {
            "text/plain": [
              "<Axes: >"
            ]
          },
          "metadata": {},
          "execution_count": 90
        },
        {
          "output_type": "display_data",
          "data": {
            "text/plain": [
              "<Figure size 640x480 with 2 Axes>"
            ],
            "image/png": "[encoded data removed]"
          },
          "metadata": {}
        }
      ]
    },
    {
      "cell_type": "markdown",
      "source": [
        "Linha 10"
      ],
      "metadata": {
        "id": "DVYfmrm479rG"
      }
    },
    {
      "cell_type": "code",
      "source": [
        "#engine-size com maior numero de outliers - criar decis\n",
        "\n",
        "carros3['engine-size_decil'] = pd.qcut(carros3['engine-size'], q=10, labels = False) + 1\n"
      ],
      "metadata": {
        "id": "Q4RcXD1k777B"
      },
      "execution_count": 91,
      "outputs": []
    },
    {
      "cell_type": "markdown",
      "source": [
        "Linha 11"
      ],
      "metadata": {
        "id": "9hM90mPC8tyT"
      }
    },
    {
      "cell_type": "code",
      "source": [
        "#comparar decis em histograma\n",
        "\n",
        "carros3['engine-size'].hist(bins=10, edgecolor='black')\n",
        "carros3['engine-size_decil'].hist(bins=10, edgecolor='black')"
      ],
      "metadata": {
        "colab": {
          "base_uri": "https://localhost:8080/",
          "height": 448
        },
        "id": "mw5jVmZ58uyi",
        "outputId": "be794e26-0194-409b-dd1c-01a1c24736d6"
      },
      "execution_count": 92,
      "outputs": [
        {
          "output_type": "execute_result",
          "data": {
            "text/plain": [
              "<Axes: >"
            ]
          },
          "metadata": {},
          "execution_count": 92
        },
        {
          "output_type": "display_data",
          "data": {
            "text/plain": [
              "<Figure size 640x480 with 1 Axes>"
            ],
            "image/png": "[encoded data removed]"
          },
          "metadata": {}
        }
      ]
    },
    {
      "cell_type": "markdown",
      "source": [
        "Linha 12"
      ],
      "metadata": {
        "id": "pz6ME-5Y9NDJ"
      }
    },
    {
      "cell_type": "code",
      "source": [
        "#correlaçao entre variavies + price. Conclusão?\n",
        "\n",
        "correl_2 = carros3[['price','engine-size','engine-size_decil']].corr()\n",
        "sns.heatmap(correl_2, annot=True, cmap='viridis')\n",
        "\n",
        "#concluimos que o nivel de correlação entre a variavel price e a decis indica um nivel de correlação mais baixo, quando comparado com o original."
      ],
      "metadata": {
        "colab": {
          "base_uri": "https://localhost:8080/",
          "height": 453
        },
        "id": "WB9Zx40a9N-k",
        "outputId": "b4d98c24-d8c3-41b6-cc77-1a3a3d60ac1b"
      },
      "execution_count": 93,
      "outputs": [
        {
          "output_type": "execute_result",
          "data": {
            "text/plain": [
              "<Axes: >"
            ]
          },
          "metadata": {},
          "execution_count": 93
        },
        {
          "output_type": "display_data",
          "data": {
            "text/plain": [
              "<Figure size 640x480 with 2 Axes>"
            ],
            "image/png": "[encoded data removed]"
          },
          "metadata": {}
        }
      ]
    },
    {
      "cell_type": "markdown",
      "source": [
        "Parte II"
      ],
      "metadata": {
        "id": "K4x9Qc7pDIWx"
      }
    },
    {
      "cell_type": "markdown",
      "source": [
        "Linha 1"
      ],
      "metadata": {
        "id": "mlgFaxH3DXEz"
      }
    },
    {
      "cell_type": "code",
      "source": [
        "#nova variavel numerica - num-of-doors\n",
        "carros3['new_num-of-doors'] = carros3['num-of-doors'].replace({'two':2,'four':4})\n",
        "carros3.head(4)"
      ],
      "metadata": {
        "colab": {
          "base_uri": "https://localhost:8080/",
          "height": 295
        },
        "id": "hGjLqJVQF3wN",
        "outputId": "e83eed12-c4ce-40e1-c4e0-8c54874bb84a"
      },
      "execution_count": 94,
      "outputs": [
        {
          "output_type": "stream",
          "name": "stderr",
          "text": [
            "/tmp/ipython-input-94-3763218140.py:2: FutureWarning: Downcasting behavior in `replace` is deprecated and will be removed in a future version. To retain the old behavior, explicitly call `result.infer_objects(copy=False)`. To opt-in to the future behavior, set `pd.set_option('future.no_silent_downcasting', True)`\n",
            "  carros3['new_num-of-doors'] = carros3['num-of-doors'].replace({'two':2,'four':4})\n"
          ]
        },
        {
          "output_type": "execute_result",
          "data": {
            "text/plain": [
              "         make fuel-type aspiration num-of-doors body-style drive-wheels  \\\n",
              "0  volkswagen       gas        std         four      sedan          fwd   \n",
              "1       honda       gas        std          two      sedan          fwd   \n",
              "2         bmw       gas        std          two      sedan          rwd   \n",
              "3       mazda       gas        std          two  hatchback          rwd   \n",
              "\n",
              "  engine-location  wheel-base    length  width  ...   width_z  height_z  \\\n",
              "0           front        97.3  0.456716   65.5  ... -0.200367  0.790430   \n",
              "1           front        96.5  0.417910   66.0  ...  0.040703 -1.142536   \n",
              "2           front       101.2  0.532836   64.8  ... -0.537865  0.231937   \n",
              "3           front        95.3  0.416418   65.7  ... -0.103939 -1.752203   \n",
              "\n",
              "   curb-weight_z  engine-size_z  horsepower_z   price_z  horsepower_lim  \\\n",
              "0      -0.509922      -0.441185     -0.098605 -0.407828       -0.098605   \n",
              "1      -0.523539      -0.417071     -0.098605 -0.363893       -0.098605   \n",
              "2      -0.325119      -0.465298     -0.071828  0.399950       -0.071828   \n",
              "3      -0.354298      -1.381595     -0.071828 -0.175600       -0.071828   \n",
              "\n",
              "   wheel-base_lim  engine-size_decil  new_num-of-doors  \n",
              "0       -0.255185                  4                 4  \n",
              "1       -0.387386                  5                 2  \n",
              "2        0.389296                  4                 2  \n",
              "3       -0.585688                  1                 2  \n",
              "\n",
              "[4 rows x 27 columns]"
            ],
            "text/html": [
              "\n",
              "  <div id=\"df-17cd4587-cd8f-4a55-8fd1-87e724a94e46\" class=\"colab-df-container\">\n",
              "    <div>\n",
              "<style scoped>\n",
              "    .dataframe tbody tr th:only-of-type {\n",
              "        vertical-align: middle;\n",
              "    }\n",
              "\n",
              "    .dataframe tbody tr th {\n",
              "        vertical-align: top;\n",
              "    }\n",
              "\n",
              "    .dataframe thead th {\n",
              "        text-align: right;\n",
              "    }\n",
              "</style>\n",
              "<table border=\"1\" class=\"dataframe\">\n",
              "  <thead>\n",
              "    <tr style=\"text-align: right;\">\n",
              "      <th></th>\n",
              "      <th>make</th>\n",
              "      <th>fuel-type</th>\n",
              "      <th>aspiration</th>\n",
              "      <th>num-of-doors</th>\n",
              "      <th>body-style</th>\n",
              "      <th>drive-wheels</th>\n",
              "      <th>engine-location</th>\n",
              "      <th>wheel-base</th>\n",
              "      <th>length</th>\n",
              "      <th>width</th>\n",
              "      <th>...</th>\n",
              "      <th>width_z</th>\n",
              "      <th>height_z</th>\n",
              "      <th>curb-weight_z</th>\n",
              "      <th>engine-size_z</th>\n",
              "      <th>horsepower_z</th>\n",
              "      <th>price_z</th>\n",
              "      <th>horsepower_lim</th>\n",
              "      <th>wheel-base_lim</th>\n",
              "      <th>engine-size_decil</th>\n",
              "      <th>new_num-of-doors</th>\n",
              "    </tr>\n",
              "  </thead>\n",
              "  <tbody>\n",
              "    <tr>\n",
              "      <th>0</th>\n",
              "      <td>volkswagen</td>\n",
              "      <td>gas</td>\n",
              "      <td>std</td>\n",
              "      <td>four</td>\n",
              "      <td>sedan</td>\n",
              "      <td>fwd</td>\n",
              "      <td>front</td>\n",
              "      <td>97.3</td>\n",
              "      <td>0.456716</td>\n",
              "      <td>65.5</td>\n",
              "      <td>...</td>\n",
              "      <td>-0.200367</td>\n",
              "      <td>0.790430</td>\n",
              "      <td>-0.509922</td>\n",
              "      <td>-0.441185</td>\n",
              "      <td>-0.098605</td>\n",
              "      <td>-0.407828</td>\n",
              "      <td>-0.098605</td>\n",
              "      <td>-0.255185</td>\n",
              "      <td>4</td>\n",
              "      <td>4</td>\n",
              "    </tr>\n",
              "    <tr>\n",
              "      <th>1</th>\n",
              "      <td>honda</td>\n",
              "      <td>gas</td>\n",
              "      <td>std</td>\n",
              "      <td>two</td>\n",
              "      <td>sedan</td>\n",
              "      <td>fwd</td>\n",
              "      <td>front</td>\n",
              "      <td>96.5</td>\n",
              "      <td>0.417910</td>\n",
              "      <td>66.0</td>\n",
              "      <td>...</td>\n",
              "      <td>0.040703</td>\n",
              "      <td>-1.142536</td>\n",
              "      <td>-0.523539</td>\n",
              "      <td>-0.417071</td>\n",
              "      <td>-0.098605</td>\n",
              "      <td>-0.363893</td>\n",
              "      <td>-0.098605</td>\n",
              "      <td>-0.387386</td>\n",
              "      <td>5</td>\n",
              "      <td>2</td>\n",
              "    </tr>\n",
              "    <tr>\n",
              "      <th>2</th>\n",
              "      <td>bmw</td>\n",
              "      <td>gas</td>\n",
              "      <td>std</td>\n",
              "      <td>two</td>\n",
              "      <td>sedan</td>\n",
              "      <td>rwd</td>\n",
              "      <td>front</td>\n",
              "      <td>101.2</td>\n",
              "      <td>0.532836</td>\n",
              "      <td>64.8</td>\n",
              "      <td>...</td>\n",
              "      <td>-0.537865</td>\n",
              "      <td>0.231937</td>\n",
              "      <td>-0.325119</td>\n",
              "      <td>-0.465298</td>\n",
              "      <td>-0.071828</td>\n",
              "      <td>0.399950</td>\n",
              "      <td>-0.071828</td>\n",
              "      <td>0.389296</td>\n",
              "      <td>4</td>\n",
              "      <td>2</td>\n",
              "    </tr>\n",
              "    <tr>\n",
              "      <th>3</th>\n",
              "      <td>mazda</td>\n",
              "      <td>gas</td>\n",
              "      <td>std</td>\n",
              "      <td>two</td>\n",
              "      <td>hatchback</td>\n",
              "      <td>rwd</td>\n",
              "      <td>front</td>\n",
              "      <td>95.3</td>\n",
              "      <td>0.416418</td>\n",
              "      <td>65.7</td>\n",
              "      <td>...</td>\n",
              "      <td>-0.103939</td>\n",
              "      <td>-1.752203</td>\n",
              "      <td>-0.354298</td>\n",
              "      <td>-1.381595</td>\n",
              "      <td>-0.071828</td>\n",
              "      <td>-0.175600</td>\n",
              "      <td>-0.071828</td>\n",
              "      <td>-0.585688</td>\n",
              "      <td>1</td>\n",
              "      <td>2</td>\n",
              "    </tr>\n",
              "  </tbody>\n",
              "</table>\n",
              "<p>4 rows × 27 columns</p>\n",
              "</div>\n",
              "    <div class=\"colab-df-buttons\">\n",
              "\n",
              "  <div class=\"colab-df-container\">\n",
              "    <button class=\"colab-df-convert\" onclick=\"convertToInteractive('df-17cd4587-cd8f-4a55-8fd1-87e724a94e46')\"\n",
              "            title=\"Convert this dataframe to an interactive table.\"\n",
              "            style=\"display:none;\">\n",
              "\n",
              "  <svg xmlns=\"http://www.w3.org/2000/svg\" height=\"24px\" viewBox=\"0 -960 960 960\">\n",
              "    <path d=\"M120-120v-720h720v720H120Zm60-500h600v-160H180v160Zm220 220h160v-160H400v160Zm0 220h160v-160H400v160ZM180-400h160v-160H180v160Zm440 0h160v-160H620v160ZM180-180h160v-160H180v160Zm440 0h160v-160H620v160Z\"/>\n",
              "  </svg>\n",
              "    </button>\n",
              "\n",
              "  <style>\n",
              "    .colab-df-container {\n",
              "      display:flex;\n",
              "      gap: 12px;\n",
              "    }\n",
              "\n",
              "    .colab-df-convert {\n",
              "      background-color: #E8F0FE;\n",
              "      border: none;\n",
              "      border-radius: 50%;\n",
              "      cursor: pointer;\n",
              "      display: none;\n",
              "      fill: #1967D2;\n",
              "      height: 32px;\n",
              "      padding: 0 0 0 0;\n",
              "      width: 32px;\n",
              "    }\n",
              "\n",
              "    .colab-df-convert:hover {\n",
              "      background-color: #E2EBFA;\n",
              "      box-shadow: 0px 1px 2px rgba(60, 64, 67, 0.3), 0px 1px 3px 1px rgba(60, 64, 67, 0.15);\n",
              "      fill: #174EA6;\n",
              "    }\n",
              "\n",
              "    .colab-df-buttons div {\n",
              "      margin-bottom: 4px;\n",
              "    }\n",
              "\n",
              "    [theme=dark] .colab-df-convert {\n",
              "      background-color: #3B4455;\n",
              "      fill: #D2E3FC;\n",
              "    }\n",
              "\n",
              "    [theme=dark] .colab-df-convert:hover {\n",
              "      background-color: #434B5C;\n",
              "      box-shadow: 0px 1px 3px 1px rgba(0, 0, 0, 0.15);\n",
              "      filter: drop-shadow(0px 1px 2px rgba(0, 0, 0, 0.3));\n",
              "      fill: #FFFFFF;\n",
              "    }\n",
              "  </style>\n",
              "\n",
              "    <script>\n",
              "      const buttonEl =\n",
              "        document.querySelector('#df-17cd4587-cd8f-4a55-8fd1-87e724a94e46 button.colab-df-convert');\n",
              "      buttonEl.style.display =\n",
              "        google.colab.kernel.accessAllowed ? 'block' : 'none';\n",
              "\n",
              "      async function convertToInteractive(key) {\n",
              "        const element = document.querySelector('#df-17cd4587-cd8f-4a55-8fd1-87e724a94e46');\n",
              "        const dataTable =\n",
              "          await google.colab.kernel.invokeFunction('convertToInteractive',\n",
              "                                                    [key], {});\n",
              "        if (!dataTable) return;\n",
              "\n",
              "        const docLinkHtml = 'Like what you see? Visit the ' +\n",
              "          '<a target=\"_blank\" href=https://colab.research.google.com/notebooks/data_table.ipynb>data table notebook</a>'\n",
              "          + ' to learn more about interactive tables.';\n",
              "        element.innerHTML = '';\n",
              "        dataTable['output_type'] = 'display_data';\n",
              "        await google.colab.output.renderOutput(dataTable, element);\n",
              "        const docLink = document.createElement('div');\n",
              "        docLink.innerHTML = docLinkHtml;\n",
              "        element.appendChild(docLink);\n",
              "      }\n",
              "    </script>\n",
              "  </div>\n",
              "\n",
              "\n",
              "    <div id=\"df-5fc07e3e-176d-4f8d-95ae-10b01d6109be\">\n",
              "      <button class=\"colab-df-quickchart\" onclick=\"quickchart('df-5fc07e3e-176d-4f8d-95ae-10b01d6109be')\"\n",
              "                title=\"Suggest charts\"\n",
              "                style=\"display:none;\">\n",
              "\n",
              "<svg xmlns=\"http://www.w3.org/2000/svg\" height=\"24px\"viewBox=\"0 0 24 24\"\n",
              "     width=\"24px\">\n",
              "    <g>\n",
              "        <path d=\"M19 3H5c-1.1 0-2 .9-2 2v14c0 1.1.9 2 2 2h14c1.1 0 2-.9 2-2V5c0-1.1-.9-2-2-2zM9 17H7v-7h2v7zm4 0h-2V7h2v10zm4 0h-2v-4h2v4z\"/>\n",
              "    </g>\n",
              "</svg>\n",
              "      </button>\n",
              "\n",
              "<style>\n",
              "  .colab-df-quickchart {\n",
              "      --bg-color: #E8F0FE;\n",
              "      --fill-color: #1967D2;\n",
              "      --hover-bg-color: #E2EBFA;\n",
              "      --hover-fill-color: #174EA6;\n",
              "      --disabled-fill-color: #AAA;\n",
              "      --disabled-bg-color: #DDD;\n",
              "  }\n",
              "\n",
              "  [theme=dark] .colab-df-quickchart {\n",
              "      --bg-color: #3B4455;\n",
              "      --fill-color: #D2E3FC;\n",
              "      --hover-bg-color: #434B5C;\n",
              "      --hover-fill-color: #FFFFFF;\n",
              "      --disabled-bg-color: #3B4455;\n",
              "      --disabled-fill-color: #666;\n",
              "  }\n",
              "\n",
              "  .colab-df-quickchart {\n",
              "    background-color: var(--bg-color);\n",
              "    border: none;\n",
              "    border-radius: 50%;\n",
              "    cursor: pointer;\n",
              "    display: none;\n",
              "    fill: var(--fill-color);\n",
              "    height: 32px;\n",
              "    padding: 0;\n",
              "    width: 32px;\n",
              "  }\n",
              "\n",
              "  .colab-df-quickchart:hover {\n",
              "    background-color: var(--hover-bg-color);\n",
              "    box-shadow: 0 1px 2px rgba(60, 64, 67, 0.3), 0 1px 3px 1px rgba(60, 64, 67, 0.15);\n",
              "    fill: var(--button-hover-fill-color);\n",
              "  }\n",
              "\n",
              "  .colab-df-quickchart-complete:disabled,\n",
              "  .colab-df-quickchart-complete:disabled:hover {\n",
              "    background-color: var(--disabled-bg-color);\n",
              "    fill: var(--disabled-fill-color);\n",
              "    box-shadow: none;\n",
              "  }\n",
              "\n",
              "  .colab-df-spinner {\n",
              "    border: 2px solid var(--fill-color);\n",
              "    border-color: transparent;\n",
              "    border-bottom-color: var(--fill-color);\n",
              "    animation:\n",
              "      spin 1s steps(1) infinite;\n",
              "  }\n",
              "\n",
              "  @keyframes spin {\n",
              "    0% {\n",
              "      border-color: transparent;\n",
              "      border-bottom-color: var(--fill-color);\n",
              "      border-left-color: var(--fill-color);\n",
              "    }\n",
              "    20% {\n",
              "      border-color: transparent;\n",
              "      border-left-color: var(--fill-color);\n",
              "      border-top-color: var(--fill-color);\n",
              "    }\n",
              "    30% {\n",
              "      border-color: transparent;\n",
              "      border-left-color: var(--fill-color);\n",
              "      border-top-color: var(--fill-color);\n",
              "      border-right-color: var(--fill-color);\n",
              "    }\n",
              "    40% {\n",
              "      border-color: transparent;\n",
              "      border-right-color: var(--fill-color);\n",
              "      border-top-color: var(--fill-color);\n",
              "    }\n",
              "    60% {\n",
              "      border-color: transparent;\n",
              "      border-right-color: var(--fill-color);\n",
              "    }\n",
              "    80% {\n",
              "      border-color: transparent;\n",
              "      border-right-color: var(--fill-color);\n",
              "      border-bottom-color: var(--fill-color);\n",
              "    }\n",
              "    90% {\n",
              "      border-color: transparent;\n",
              "      border-bottom-color: var(--fill-color);\n",
              "    }\n",
              "  }\n",
              "</style>\n",
              "\n",
              "      <script>\n",
              "        async function quickchart(key) {\n",
              "          const quickchartButtonEl =\n",
              "            document.querySelector('#' + key + ' button');\n",
              "          quickchartButtonEl.disabled = true;  // To prevent multiple clicks.\n",
              "          quickchartButtonEl.classList.add('colab-df-spinner');\n",
              "          try {\n",
              "            const charts = await google.colab.kernel.invokeFunction(\n",
              "                'suggestCharts', [key], {});\n",
              "          } catch (error) {\n",
              "            console.error('Error during call to suggestCharts:', error);\n",
              "          }\n",
              "          quickchartButtonEl.classList.remove('colab-df-spinner');\n",
              "          quickchartButtonEl.classList.add('colab-df-quickchart-complete');\n",
              "        }\n",
              "        (() => {\n",
              "          let quickchartButtonEl =\n",
              "            document.querySelector('#df-5fc07e3e-176d-4f8d-95ae-10b01d6109be button');\n",
              "          quickchartButtonEl.style.display =\n",
              "            google.colab.kernel.accessAllowed ? 'block' : 'none';\n",
              "        })();\n",
              "      </script>\n",
              "    </div>\n",
              "\n",
              "    </div>\n",
              "  </div>\n"
            ],
            "application/vnd.google.colaboratory.intrinsic+json": {
              "type": "dataframe",
              "variable_name": "carros3"
            }
          },
          "metadata": {},
          "execution_count": 94
        }
      ]
    },
    {
      "cell_type": "markdown",
      "source": [
        "Linha 2"
      ],
      "metadata": {
        "id": "t25Xw-JI6Z1f"
      }
    },
    {
      "cell_type": "code",
      "source": [
        "#variáveis dummy - body-style\n",
        "tabela2= pd.get_dummies(carros3, columns=['body-style'], prefix='body-style', drop_first=False)\n"
      ],
      "metadata": {
        "id": "yDEeLonw6bCU"
      },
      "execution_count": 95,
      "outputs": []
    },
    {
      "cell_type": "markdown",
      "source": [
        "Linha 3"
      ],
      "metadata": {
        "id": "fMFcGGSB8V_8"
      }
    },
    {
      "cell_type": "code",
      "source": [
        "#converter para centimetros sem casas decimais - considerando dados em polegadas\n",
        "\n",
        "variaveis_polegadas = ['wheel-base', 'length','width','height']\n",
        "\n",
        "\n",
        "for var in variaveis_polegadas:\n",
        "    nome_coluna_cm = f\"{var}_cm\"\n",
        "    carros3[nome_coluna_cm] = (carros3[var] * 2.54).round(0).astype(int)\n",
        "\n",
        "print(carros3.head(3))"
      ],
      "metadata": {
        "colab": {
          "base_uri": "https://localhost:8080/"
        },
        "id": "LTEn0rN78XDJ",
        "outputId": "c12b1a39-bc1b-48b7-ba3c-8c6402cc7fb7"
      },
      "execution_count": 96,
      "outputs": [
        {
          "output_type": "stream",
          "name": "stdout",
          "text": [
            "         make fuel-type aspiration num-of-doors body-style drive-wheels  \\\n",
            "0  volkswagen       gas        std         four      sedan          fwd   \n",
            "1       honda       gas        std          two      sedan          fwd   \n",
            "2         bmw       gas        std          two      sedan          rwd   \n",
            "\n",
            "  engine-location  wheel-base    length  width  ...  horsepower_z   price_z  \\\n",
            "0           front        97.3  0.456716   65.5  ...     -0.098605 -0.407828   \n",
            "1           front        96.5  0.417910   66.0  ...     -0.098605 -0.363893   \n",
            "2           front       101.2  0.532836   64.8  ...     -0.071828  0.399950   \n",
            "\n",
            "   horsepower_lim  wheel-base_lim  engine-size_decil  new_num-of-doors  \\\n",
            "0       -0.098605       -0.255185                  4                 4   \n",
            "1       -0.098605       -0.387386                  5                 2   \n",
            "2       -0.071828        0.389296                  4                 2   \n",
            "\n",
            "   wheel-base_cm  length_cm  width_cm  height_cm  \n",
            "0            247          1       166         10  \n",
            "1            245          1       168         10  \n",
            "2            257          1       165         10  \n",
            "\n",
            "[3 rows x 31 columns]\n"
          ]
        }
      ]
    },
    {
      "cell_type": "markdown",
      "source": [
        "Linha 4"
      ],
      "metadata": {
        "id": "tAxqgTIO-UlD"
      }
    },
    {
      "cell_type": "code",
      "source": [
        "#converter price para euros com 2 casas decimais - considerando dados em dolares\n",
        "#segundo o banco de portugal, ao dia do exercicio 1 dolar = 0.85 euros\n",
        "#coloquei a taxa de cambio como variavel para ser possivel atualizar conforme o mercado sem ter de mexer diretamente no código\n",
        "\n",
        "variaveis_preco = ['price']\n",
        "taxa_cambio = 0.85\n",
        "\n",
        "for var in variaveis_preco:\n",
        "    nome_coluna_euros = f\"{var}_euros\"\n",
        "    carros3[nome_coluna_euros] = (carros3[var] * taxa_cambio).round(2)\n",
        "\n"
      ],
      "metadata": {
        "id": "xgTuIVzK-SbS"
      },
      "execution_count": 97,
      "outputs": []
    },
    {
      "cell_type": "markdown",
      "source": [
        "Linha 5"
      ],
      "metadata": {
        "id": "q_1Ov2R7Ajm5"
      }
    },
    {
      "cell_type": "code",
      "source": [
        "#com base no preço criar e 3 niveis:alto,medio e baixo\n",
        "#calculei a amplitude do intervalo\n",
        "\n",
        "price_min = carros3['price'].min()\n",
        "price_max = carros3['price'].max()\n",
        "amplitude_preco= price_max- price_min\n",
        "\n",
        "#criar intervalos\n",
        "\n",
        "intervalos = amplitude_preco/3\n",
        "limite1 = price_min + intervalos\n",
        "limite2 = price_min + 2 * intervalos\n",
        "\n",
        "#classificar intervalos de precos\n",
        "\n",
        "classificacao = [\n",
        "    carros3['price'] <=limite1,\n",
        "    (carros3['price'] >limite1) & (carros3['price'] <=limite2),\n",
        "    carros3['price'] > limite2\n",
        "]\n",
        "\n",
        "categorias=['Baixo','Médio','Alto']\n",
        "\n",
        "carros3[\"price_level\"] = np.select(classificacao, categorias, default='Unknown')"
      ],
      "metadata": {
        "id": "2c-VNZoaJSLW"
      },
      "execution_count": 98,
      "outputs": []
    },
    {
      "cell_type": "markdown",
      "source": [
        "Parte III"
      ],
      "metadata": {
        "id": "nv_HDfEXKpku"
      }
    },
    {
      "cell_type": "code",
      "source": [
        "#distribuição da variavel price - boxplot\n",
        "\n",
        "carros3.boxplot(column='price', patch_artist=True)\n",
        "\n",
        "#Podemos concluir que a variável price apresenta: Uma mediana em torno de 10.000. Muitos outliers acima do limite superior, até cerca de 45.000 Assimetria positiva à direita. Intervalo interquartil entre 7.500 e 16.000.Limite inferior: 5000. Limite superior: +/- 28000."
      ],
      "metadata": {
        "colab": {
          "base_uri": "https://localhost:8080/",
          "height": 448
        },
        "id": "sGWUrdXGKwfe",
        "outputId": "492c086b-68ed-4e6e-8726-b78bcc3ec5b6"
      },
      "execution_count": 99,
      "outputs": [
        {
          "output_type": "execute_result",
          "data": {
            "text/plain": [
              "<Axes: >"
            ]
          },
          "metadata": {},
          "execution_count": 99
        },
        {
          "output_type": "display_data",
          "data": {
            "text/plain": [
              "<Figure size 640x480 with 1 Axes>"
            ],
            "image/png": "[encoded data removed]"
          },
          "metadata": {}
        }
      ]
    },
    {
      "cell_type": "markdown",
      "source": [
        "Linha 2"
      ],
      "metadata": {
        "id": "97r8aTIqinal"
      }
    },
    {
      "cell_type": "code",
      "source": [
        "#variavel para analise: + analise grafico de barras + tabela frequencias\n",
        "\n",
        "#tabela frequencias\n",
        "freq_tab = carros3['fuel-type'].value_counts()\n",
        "print(freq_tab)"
      ],
      "metadata": {
        "colab": {
          "base_uri": "https://localhost:8080/"
        },
        "id": "Km3UBUi7iov8",
        "outputId": "f0d2b32b-5658-45a6-872c-c9b11fa2501f"
      },
      "execution_count": 100,
      "outputs": [
        {
          "output_type": "stream",
          "name": "stdout",
          "text": [
            "fuel-type\n",
            "gas       179\n",
            "diesel     20\n",
            "Name: count, dtype: int64\n"
          ]
        }
      ]
    },
    {
      "cell_type": "markdown",
      "source": [
        "Linha 3"
      ],
      "metadata": {
        "id": "AtLD6T1CqZuZ"
      }
    },
    {
      "cell_type": "code",
      "source": [
        "#criar grafico de barras + pie chart\n",
        "freq_tab.plot(kind='bar')\n"
      ],
      "metadata": {
        "colab": {
          "base_uri": "https://localhost:8080/",
          "height": 494
        },
        "id": "EVqciRGwqTxf",
        "outputId": "e4ccb73c-95de-4729-cebe-3f82702fb090"
      },
      "execution_count": 101,
      "outputs": [
        {
          "output_type": "execute_result",
          "data": {
            "text/plain": [
              "<Axes: xlabel='fuel-type'>"
            ]
          },
          "metadata": {},
          "execution_count": 101
        },
        {
          "output_type": "display_data",
          "data": {
            "text/plain": [
              "<Figure size 640x480 with 1 Axes>"
            ],
            "image/png": "[encoded data removed]"
          },
          "metadata": {}
        }
      ]
    },
    {
      "cell_type": "code",
      "source": [
        "freq_tab.plot.pie()"
      ],
      "metadata": {
        "colab": {
          "base_uri": "https://localhost:8080/",
          "height": 424
        },
        "id": "6l67csTXqpLN",
        "outputId": "fde1f85a-1b66-4f85-f163-7c817861e7d8"
      },
      "execution_count": 102,
      "outputs": [
        {
          "output_type": "execute_result",
          "data": {
            "text/plain": [
              "<Axes: ylabel='count'>"
            ]
          },
          "metadata": {},
          "execution_count": 102
        },
        {
          "output_type": "display_data",
          "data": {
            "text/plain": [
              "<Figure size 640x480 with 1 Axes>"
            ],
            "image/png": "[encoded data removed]"
          },
          "metadata": {}
        }
      ]
    },
    {
      "cell_type": "markdown",
      "source": [
        "Linha 4"
      ],
      "metadata": {
        "id": "XIXj7bFFq0a8"
      }
    },
    {
      "cell_type": "code",
      "source": [
        "#explorar acatter plot com horsepower e price - que tipo de relaçao apresentam?\n",
        "plt.scatter(carros3['horsepower'], carros3['price'])\n",
        "\n",
        "#podemos concluir que a relação entre as variaveis horsepower e price é, na sua maioria, positiva, ou seja, quanto mais horsepower tem o carro mais aumenta o price.\n",
        "#Esta relação não é totalmente linear, no sentido em que existem alguns casos em que,comparativamente, a potencia é baixa e o preço alto, ou vice-versa.\n",
        "#Algumas razoes que podem influenciar esta variância: marca do carro, tipo de combustiveis, curb-weight, engine-size etc."
      ],
      "metadata": {
        "colab": {
          "base_uri": "https://localhost:8080/",
          "height": 448
        },
        "id": "xMLNHkF2q0CB",
        "outputId": "ab419968-fad2-4e8e-bce8-8529b8101d34"
      },
      "execution_count": 103,
      "outputs": [
        {
          "output_type": "execute_result",
          "data": {
            "text/plain": [
              "<matplotlib.collections.PathCollection at 0x7c32e452b250>"
            ]
          },
          "metadata": {},
          "execution_count": 103
        },
        {
          "output_type": "display_data",
          "data": {
            "text/plain": [
              "<Figure size 640x480 with 1 Axes>"
            ],
            "image/png": "[encoded data removed]"
          },
          "metadata": {}
        }
      ]
    },
    {
      "cell_type": "markdown",
      "source": [
        "Linha 5"
      ],
      "metadata": {
        "id": "cyPc8tK9tD1z"
      }
    },
    {
      "cell_type": "code",
      "source": [
        "#heatmap para relação entre todas as variaveis quantitativas\n",
        "\n",
        "correl_quantitativas = carros3[['wheel-base','length','width','height','curb-weight','engine-size','horsepower','price']].corr()\n",
        "sns.heatmap(correl_quantitativas, annot=True, cmap='viridis')\n",
        "\n",
        "#Podemos concluir que algumas variaveis tem uma correlaçao elevada entre si.\n",
        "#De forma positiva, por exemplo: lenght com wheel-base, width e curb-weight. Price com engine-size, curb-weight e horsepower\n",
        "#O que significa que a medida que uma variável aumenta, a outra também tende a aumentar de forma consistente. Nesta análise a correlação mais forte é entre lenght e wheel-base.\n",
        "#Valores mais proximos de zero, por exemplo: height com engine-size e horsepower.\n",
        "#Indica que xiste uma relação linear muito fraca (quase inexistente) entre as variáveis.\n",
        "#De forma geral é possivel concluir que existe uma correlação positiva, acima de 0,60, entre grande parte das variáveis. Sendo que algumas apresentam valores acima de 0,80."
      ],
      "metadata": {
        "colab": {
          "base_uri": "https://localhost:8080/",
          "height": 522
        },
        "id": "RxuE-wYYtDqY",
        "outputId": "95d1285f-98dd-4166-eaff-15aa9566e7d2"
      },
      "execution_count": 104,
      "outputs": [
        {
          "output_type": "execute_result",
          "data": {
            "text/plain": [
              "<Axes: >"
            ]
          },
          "metadata": {},
          "execution_count": 104
        },
        {
          "output_type": "display_data",
          "data": {
            "text/plain": [
              "<Figure size 640x480 with 2 Axes>"
            ],
            "image/png": "[encoded data removed]"
          },
          "metadata": {}
        }
      ]
    }
  ]
}